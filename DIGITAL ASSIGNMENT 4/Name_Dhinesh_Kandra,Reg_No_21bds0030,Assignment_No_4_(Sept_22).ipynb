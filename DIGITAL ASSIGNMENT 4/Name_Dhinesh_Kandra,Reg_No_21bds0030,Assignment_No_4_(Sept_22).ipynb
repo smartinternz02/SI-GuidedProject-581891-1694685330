{
  "nbformat": 4,
  "nbformat_minor": 0,
  "metadata": {
    "colab": {
      "provenance": []
    },
    "kernelspec": {
      "name": "python3",
      "display_name": "Python 3"
    },
    "language_info": {
      "name": "python"
    }
  },
  "cells": [
    {
      "cell_type": "markdown",
      "source": [
        "**Name: Dhinesh Kandra**\n",
        "\n",
        "**University and campus: VIT Vellore**\n",
        "\n",
        "**Branch: BTECH CSE with Specialization in Data Science**\n",
        "\n",
        "**Registration number: 21BDS0030**\n",
        "\n",
        "**Course name: Smart Bridge – Artificial Intelligence & Machine Learning in collaboration with Google**\n",
        "\n",
        "**Batch: Morning**\n",
        "\n",
        "#**Assignment 4:September 22 2023**"
      ],
      "metadata": {
        "id": "rlLpKCREr9jp"
      }
    },
    {
      "cell_type": "markdown",
      "source": [
        "#**AIM:**\n",
        "\n",
        "To perform data preprocessing on the Employee Attrition dataset and to prepare it for model building using logistic regression, decision tree, and random forest algorithms."
      ],
      "metadata": {
        "id": "XEaxoAYk_d7L"
      }
    },
    {
      "cell_type": "markdown",
      "source": [
        "#**Dataset Introduction :**\n",
        "\n",
        "The Employee Attrition dataset contains information about employees, including whether they left the company or not. The aim is to prepare the dataset for further analysis by handling missing values, encoding categorical variables, scaling continuous variables, and splitting the dataset into training and test sets."
      ],
      "metadata": {
        "id": "_zySHwko_zzk"
      }
    },
    {
      "cell_type": "markdown",
      "source": [
        "#**Data Collection :**"
      ],
      "metadata": {
        "id": "8HEqcK-1_84Q"
      }
    },
    {
      "cell_type": "markdown",
      "source": [
        "#**Downloading The Employee Attrition Dataset :**"
      ],
      "metadata": {
        "id": "_jNbCYf8ACXH"
      }
    },
    {
      "cell_type": "code",
      "source": [
        "import gdown\n",
        "file_id = '1w9qAqyddPcpZSXlF6O0YhEG8brvSyuBx'\n",
        "output_file = '/content/Employee-Attrition.csv'\n",
        "gdown.download(f'https://drive.google.com/uc?id={file_id}', output_file, quiet=False)"
      ],
      "metadata": {
        "colab": {
          "base_uri": "https://localhost:8080/",
          "height": 105
        },
        "id": "_ndWL92guupE",
        "outputId": "cc2e7827-524e-43de-e0ed-0f77195a4fdc"
      },
      "execution_count": 1,
      "outputs": [
        {
          "output_type": "stream",
          "name": "stderr",
          "text": [
            "Downloading...\n",
            "From: https://drive.google.com/uc?id=1w9qAqyddPcpZSXlF6O0YhEG8brvSyuBx\n",
            "To: /content/Employee-Attrition.csv\n",
            "100%|██████████| 228k/228k [00:00<00:00, 5.48MB/s]\n"
          ]
        },
        {
          "output_type": "execute_result",
          "data": {
            "text/plain": [
              "'/content/Employee-Attrition.csv'"
            ],
            "application/vnd.google.colaboratory.intrinsic+json": {
              "type": "string"
            }
          },
          "metadata": {},
          "execution_count": 1
        }
      ]
    },
    {
      "cell_type": "markdown",
      "source": [
        "#**Data Preprocessing :**"
      ],
      "metadata": {
        "id": "HoCNuVPtoJem"
      }
    },
    {
      "cell_type": "markdown",
      "source": [
        "#**Importing Necessary Libraries :**"
      ],
      "metadata": {
        "id": "4bxpOP-ZB2I1"
      }
    },
    {
      "cell_type": "code",
      "execution_count": 2,
      "metadata": {
        "id": "wxKhJZ4PogEi"
      },
      "outputs": [],
      "source": [
        "import pandas as pd\n",
        "import numpy as np\n",
        "from sklearn.preprocessing import StandardScaler\n",
        "from sklearn.linear_model import LogisticRegression\n",
        "from sklearn.ensemble import RandomForestClassifier\n",
        "from sklearn.model_selection import train_test_split\n",
        "from sklearn.preprocessing import LabelEncoder\n",
        "from sklearn.tree import DecisionTreeClassifier\n",
        "from sklearn.metrics import accuracy_score, classification_report, confusion_matrix"
      ]
    },
    {
      "cell_type": "markdown",
      "source": [
        "#**Loading The Employee Attrition Dataset :**"
      ],
      "metadata": {
        "id": "9Q4LpkxH9jl_"
      }
    },
    {
      "cell_type": "code",
      "source": [
        "data = pd.read_csv('/content/Employee-Attrition.csv')"
      ],
      "metadata": {
        "id": "dDNICYzKopfU"
      },
      "execution_count": 3,
      "outputs": []
    },
    {
      "cell_type": "markdown",
      "source": [
        "#**Displaying all Column Names :**"
      ],
      "metadata": {
        "id": "m9FKnOP8vfNX"
      }
    },
    {
      "cell_type": "code",
      "source": [
        "column_names = data.columns\n",
        "print(\"Column Names:\")\n",
        "for column in column_names:\n",
        "    print(column)"
      ],
      "metadata": {
        "colab": {
          "base_uri": "https://localhost:8080/"
        },
        "id": "5tuT_zXjuhH9",
        "outputId": "21465b53-ff7d-4f40-c444-186a4f83ab64"
      },
      "execution_count": 4,
      "outputs": [
        {
          "output_type": "stream",
          "name": "stdout",
          "text": [
            "Column Names:\n",
            "Age\n",
            "Attrition\n",
            "BusinessTravel\n",
            "DailyRate\n",
            "Department\n",
            "DistanceFromHome\n",
            "Education\n",
            "EducationField\n",
            "EmployeeCount\n",
            "EmployeeNumber\n",
            "EnvironmentSatisfaction\n",
            "Gender\n",
            "HourlyRate\n",
            "JobInvolvement\n",
            "JobLevel\n",
            "JobRole\n",
            "JobSatisfaction\n",
            "MaritalStatus\n",
            "MonthlyIncome\n",
            "MonthlyRate\n",
            "NumCompaniesWorked\n",
            "Over18\n",
            "OverTime\n",
            "PercentSalaryHike\n",
            "PerformanceRating\n",
            "RelationshipSatisfaction\n",
            "StandardHours\n",
            "StockOptionLevel\n",
            "TotalWorkingYears\n",
            "TrainingTimesLastYear\n",
            "WorkLifeBalance\n",
            "YearsAtCompany\n",
            "YearsInCurrentRole\n",
            "YearsSinceLastPromotion\n",
            "YearsWithCurrManager\n"
          ]
        }
      ]
    },
    {
      "cell_type": "markdown",
      "source": [
        "#**Checking For Missing Values :**"
      ],
      "metadata": {
        "id": "BN2_4v5gvrEQ"
      }
    },
    {
      "cell_type": "code",
      "source": [
        "print(data.isnull().any())"
      ],
      "metadata": {
        "colab": {
          "base_uri": "https://localhost:8080/"
        },
        "id": "u3cKPZiEoswK",
        "outputId": "b43849de-475f-4b3a-bc7d-3220b08c4f0e"
      },
      "execution_count": 5,
      "outputs": [
        {
          "output_type": "stream",
          "name": "stdout",
          "text": [
            "Age                         False\n",
            "Attrition                   False\n",
            "BusinessTravel              False\n",
            "DailyRate                   False\n",
            "Department                  False\n",
            "DistanceFromHome            False\n",
            "Education                   False\n",
            "EducationField              False\n",
            "EmployeeCount               False\n",
            "EmployeeNumber              False\n",
            "EnvironmentSatisfaction     False\n",
            "Gender                      False\n",
            "HourlyRate                  False\n",
            "JobInvolvement              False\n",
            "JobLevel                    False\n",
            "JobRole                     False\n",
            "JobSatisfaction             False\n",
            "MaritalStatus               False\n",
            "MonthlyIncome               False\n",
            "MonthlyRate                 False\n",
            "NumCompaniesWorked          False\n",
            "Over18                      False\n",
            "OverTime                    False\n",
            "PercentSalaryHike           False\n",
            "PerformanceRating           False\n",
            "RelationshipSatisfaction    False\n",
            "StandardHours               False\n",
            "StockOptionLevel            False\n",
            "TotalWorkingYears           False\n",
            "TrainingTimesLastYear       False\n",
            "WorkLifeBalance             False\n",
            "YearsAtCompany              False\n",
            "YearsInCurrentRole          False\n",
            "YearsSinceLastPromotion     False\n",
            "YearsWithCurrManager        False\n",
            "dtype: bool\n"
          ]
        }
      ]
    },
    {
      "cell_type": "markdown",
      "source": [
        "#**Checking For Outliers :**"
      ],
      "metadata": {
        "id": "4WMVQJyfv6Pt"
      }
    },
    {
      "cell_type": "code",
      "source": [
        "all_columns = data.columns\n",
        "outliers_count = {}\n",
        "for column in all_columns:\n",
        "    if pd.api.types.is_numeric_dtype(data[column]):\n",
        "        Q1 = data[column].quantile(0.25)\n",
        "        Q3 = data[column].quantile(0.75)\n",
        "        IQR = Q3 - Q1\n",
        "        lower_bound = Q1 - 1.5 * IQR\n",
        "        upper_bound = Q3 + 1.5 * IQR\n",
        "        count = len(data[(data[column] < lower_bound) | (data[column] > upper_bound)])\n",
        "        outliers_count[column] = count\n",
        "    else:\n",
        "        count = len(data[column].unique())\n",
        "        outliers_count[column] = count\n",
        "for column in all_columns:\n",
        "    print(f'Number of outliers in {column}: {outliers_count[column]}')"
      ],
      "metadata": {
        "colab": {
          "base_uri": "https://localhost:8080/"
        },
        "id": "6oFYL4mgrhAe",
        "outputId": "fdc53bf5-c78a-4221-cee8-7415bdfb66e3"
      },
      "execution_count": 6,
      "outputs": [
        {
          "output_type": "stream",
          "name": "stdout",
          "text": [
            "Number of outliers in Age: 0\n",
            "Number of outliers in Attrition: 2\n",
            "Number of outliers in BusinessTravel: 3\n",
            "Number of outliers in DailyRate: 0\n",
            "Number of outliers in Department: 3\n",
            "Number of outliers in DistanceFromHome: 0\n",
            "Number of outliers in Education: 0\n",
            "Number of outliers in EducationField: 6\n",
            "Number of outliers in EmployeeCount: 0\n",
            "Number of outliers in EmployeeNumber: 0\n",
            "Number of outliers in EnvironmentSatisfaction: 0\n",
            "Number of outliers in Gender: 2\n",
            "Number of outliers in HourlyRate: 0\n",
            "Number of outliers in JobInvolvement: 0\n",
            "Number of outliers in JobLevel: 0\n",
            "Number of outliers in JobRole: 9\n",
            "Number of outliers in JobSatisfaction: 0\n",
            "Number of outliers in MaritalStatus: 3\n",
            "Number of outliers in MonthlyIncome: 114\n",
            "Number of outliers in MonthlyRate: 0\n",
            "Number of outliers in NumCompaniesWorked: 52\n",
            "Number of outliers in Over18: 1\n",
            "Number of outliers in OverTime: 2\n",
            "Number of outliers in PercentSalaryHike: 0\n",
            "Number of outliers in PerformanceRating: 226\n",
            "Number of outliers in RelationshipSatisfaction: 0\n",
            "Number of outliers in StandardHours: 0\n",
            "Number of outliers in StockOptionLevel: 85\n",
            "Number of outliers in TotalWorkingYears: 63\n",
            "Number of outliers in TrainingTimesLastYear: 238\n",
            "Number of outliers in WorkLifeBalance: 0\n",
            "Number of outliers in YearsAtCompany: 104\n",
            "Number of outliers in YearsInCurrentRole: 21\n",
            "Number of outliers in YearsSinceLastPromotion: 107\n",
            "Number of outliers in YearsWithCurrManager: 14\n"
          ]
        }
      ]
    },
    {
      "cell_type": "markdown",
      "source": [
        "There is no need to handle above outliers as the ones which have outliers are logically genuine"
      ],
      "metadata": {
        "id": "qp1SBNnuyq71"
      }
    },
    {
      "cell_type": "markdown",
      "source": [
        "#**Displaying Data Types of Columns :**"
      ],
      "metadata": {
        "id": "Y9goom0TwPF0"
      }
    },
    {
      "cell_type": "code",
      "source": [
        "print(data.dtypes)"
      ],
      "metadata": {
        "colab": {
          "base_uri": "https://localhost:8080/"
        },
        "id": "QiI_f3HdXRm7",
        "outputId": "5550fc10-6f6b-4160-8e2a-90f5e4173be5"
      },
      "execution_count": 7,
      "outputs": [
        {
          "output_type": "stream",
          "name": "stdout",
          "text": [
            "Age                          int64\n",
            "Attrition                   object\n",
            "BusinessTravel              object\n",
            "DailyRate                    int64\n",
            "Department                  object\n",
            "DistanceFromHome             int64\n",
            "Education                    int64\n",
            "EducationField              object\n",
            "EmployeeCount                int64\n",
            "EmployeeNumber               int64\n",
            "EnvironmentSatisfaction      int64\n",
            "Gender                      object\n",
            "HourlyRate                   int64\n",
            "JobInvolvement               int64\n",
            "JobLevel                     int64\n",
            "JobRole                     object\n",
            "JobSatisfaction              int64\n",
            "MaritalStatus               object\n",
            "MonthlyIncome                int64\n",
            "MonthlyRate                  int64\n",
            "NumCompaniesWorked           int64\n",
            "Over18                      object\n",
            "OverTime                    object\n",
            "PercentSalaryHike            int64\n",
            "PerformanceRating            int64\n",
            "RelationshipSatisfaction     int64\n",
            "StandardHours                int64\n",
            "StockOptionLevel             int64\n",
            "TotalWorkingYears            int64\n",
            "TrainingTimesLastYear        int64\n",
            "WorkLifeBalance              int64\n",
            "YearsAtCompany               int64\n",
            "YearsInCurrentRole           int64\n",
            "YearsSinceLastPromotion      int64\n",
            "YearsWithCurrManager         int64\n",
            "dtype: object\n"
          ]
        }
      ]
    },
    {
      "cell_type": "markdown",
      "source": [
        "#**Encoding Categorical Columns :**"
      ],
      "metadata": {
        "id": "Pp4Om78CwYyc"
      }
    },
    {
      "cell_type": "code",
      "source": [
        "clmns = ['BusinessTravel', 'Department', 'EducationField', 'Gender', 'JobRole', 'MaritalStatus', 'OverTime', 'Education', 'EnvironmentSatisfaction', 'JobInvolvement', 'JobSatisfaction', 'PerformanceRating', 'RelationshipSatisfaction', 'WorkLifeBalance']\n",
        "label_encoders = {}\n",
        "for col in clmns:\n",
        "    label_encoder = LabelEncoder()\n",
        "    data[col] = label_encoder.fit_transform(data[col])\n",
        "    label_encoders[col] = label_encoder"
      ],
      "metadata": {
        "id": "Z9MOoUVMkPD2"
      },
      "execution_count": 8,
      "outputs": []
    },
    {
      "cell_type": "markdown",
      "source": [
        "#**Splitting Features and Targets :**"
      ],
      "metadata": {
        "id": "ZbSxjZIewj6_"
      }
    },
    {
      "cell_type": "code",
      "source": [
        "X_features = data.drop(columns=['Attrition'])\n",
        "y_target = data['Attrition']"
      ],
      "metadata": {
        "id": "QJPdfiwlknmL"
      },
      "execution_count": 9,
      "outputs": []
    },
    {
      "cell_type": "markdown",
      "source": [
        "#**Scalling Numerical Values :**"
      ],
      "metadata": {
        "id": "YucHB4LZw0im"
      }
    },
    {
      "cell_type": "code",
      "source": [
        "numerical_features = data.select_dtypes(include=np.number).columns\n",
        "scaler = StandardScaler()\n",
        "scaler.fit(data[numerical_features])\n",
        "data[numerical_features] = scaler.transform(data[numerical_features])"
      ],
      "metadata": {
        "id": "1v2ljAoPSqIN"
      },
      "execution_count": 10,
      "outputs": []
    },
    {
      "cell_type": "markdown",
      "source": [
        "#**Splitting Data Into Testing And Training sets :**"
      ],
      "metadata": {
        "id": "q-TzS4kDw918"
      }
    },
    {
      "cell_type": "code",
      "source": [
        "X_train, X_test, y_train, y_test = train_test_split(X_features, y_target, test_size=0.2, random_state=42)"
      ],
      "metadata": {
        "id": "S258FFkkasd8"
      },
      "execution_count": 11,
      "outputs": []
    },
    {
      "cell_type": "markdown",
      "source": [
        "#**Model Building :**"
      ],
      "metadata": {
        "id": "kVKTBYbhxUZg"
      }
    },
    {
      "cell_type": "markdown",
      "source": [
        "#**Training a Logistic Regression Model :**"
      ],
      "metadata": {
        "id": "yyAgGs-3xd_2"
      }
    },
    {
      "cell_type": "code",
      "source": [
        "X_train_encoded = pd.get_dummies(X_train)\n",
        "X_test_encoded = pd.get_dummies(X_test)\n",
        "scaler = StandardScaler()\n",
        "X_train_scaled = scaler.fit_transform(X_train_encoded)\n",
        "X_test_scaled = scaler.transform(X_test_encoded)\n",
        "logistic_model = LogisticRegression(max_iter=1000)\n",
        "logistic_model.fit(X_train_scaled, y_train)\n",
        "logistic_pred = logistic_model.predict(X_test_scaled)"
      ],
      "metadata": {
        "id": "HloFKbaLlsHn"
      },
      "execution_count": 12,
      "outputs": []
    },
    {
      "cell_type": "markdown",
      "source": [
        "#**Training a Decision Tree Model :**"
      ],
      "metadata": {
        "id": "NowIJexHxm-u"
      }
    },
    {
      "cell_type": "code",
      "source": [
        "X_train_encoded = pd.get_dummies(X_train)\n",
        "X_test_encoded = pd.get_dummies(X_test)\n",
        "decision_tree_model = DecisionTreeClassifier()\n",
        "decision_tree_model.fit(X_train_encoded, y_train)\n",
        "decision_tree_pred = decision_tree_model.predict(X_test_encoded)"
      ],
      "metadata": {
        "id": "7UhlL1s2m-OV"
      },
      "execution_count": 13,
      "outputs": []
    },
    {
      "cell_type": "markdown",
      "source": [
        "#**Training a Random Forest Model :**"
      ],
      "metadata": {
        "id": "9iFKP4VOx46f"
      }
    },
    {
      "cell_type": "code",
      "source": [
        "X_train_encoded = pd.get_dummies(X_train)\n",
        "X_test_encoded = pd.get_dummies(X_test)\n",
        "random_forest_model = RandomForestClassifier()\n",
        "random_forest_model.fit(X_train_encoded, y_train)\n",
        "random_forest_pred = random_forest_model.predict(X_test_encoded)"
      ],
      "metadata": {
        "id": "lO2yaiUxnGqk"
      },
      "execution_count": 14,
      "outputs": []
    },
    {
      "cell_type": "markdown",
      "source": [
        "#**Calculating Performance Metrics:**"
      ],
      "metadata": {
        "id": "Lb-hxSi3yG3S"
      }
    },
    {
      "cell_type": "markdown",
      "source": [
        "#**Performance Metrics for Logistic Regression :**"
      ],
      "metadata": {
        "id": "B_NP2d65yWXB"
      }
    },
    {
      "cell_type": "code",
      "source": [
        "logistic_accuracy = accuracy_score(y_test, logistic_pred)\n",
        "logistic_report = classification_report(y_test, logistic_pred)\n",
        "logistic_confusion_matrix = confusion_matrix(y_test, logistic_pred)\n",
        "print(\"Accuracy:\\n\", logistic_accuracy)\n",
        "print(\"Report:\\n\", logistic_report)"
      ],
      "metadata": {
        "colab": {
          "base_uri": "https://localhost:8080/"
        },
        "id": "l6AOSc7RnNcc",
        "outputId": "2f58b446-bc33-47ca-b44e-a772617a34e4"
      },
      "execution_count": 15,
      "outputs": [
        {
          "output_type": "stream",
          "name": "stdout",
          "text": [
            "Accuracy:\n",
            " 0.891156462585034\n",
            "Report:\n",
            "               precision    recall  f1-score   support\n",
            "\n",
            "          No       0.91      0.98      0.94       255\n",
            "         Yes       0.68      0.33      0.45        39\n",
            "\n",
            "    accuracy                           0.89       294\n",
            "   macro avg       0.79      0.65      0.69       294\n",
            "weighted avg       0.88      0.89      0.87       294\n",
            "\n"
          ]
        }
      ]
    },
    {
      "cell_type": "markdown",
      "source": [
        "#**Performance Metrics for Decision Tree :**"
      ],
      "metadata": {
        "id": "XY7khWe6zKF8"
      }
    },
    {
      "cell_type": "code",
      "source": [
        "decision_tree_accuracy = accuracy_score(y_test, decision_tree_pred)\n",
        "decision_tree_report = classification_report(y_test, decision_tree_pred)\n",
        "decision_tree_confusion_matrix = confusion_matrix(y_test, decision_tree_pred)\n",
        "print(\"Accuracy:\\n\", decision_tree_accuracy)\n",
        "print(\"Report:\\n\", decision_tree_report)"
      ],
      "metadata": {
        "colab": {
          "base_uri": "https://localhost:8080/"
        },
        "id": "Lb8wG_MCysgY",
        "outputId": "603e130a-5608-4b88-aaa0-c66b83726e9d"
      },
      "execution_count": 16,
      "outputs": [
        {
          "output_type": "stream",
          "name": "stdout",
          "text": [
            "Accuracy:\n",
            " 0.7721088435374149\n",
            "Report:\n",
            "               precision    recall  f1-score   support\n",
            "\n",
            "          No       0.87      0.86      0.87       255\n",
            "         Yes       0.17      0.18      0.17        39\n",
            "\n",
            "    accuracy                           0.77       294\n",
            "   macro avg       0.52      0.52      0.52       294\n",
            "weighted avg       0.78      0.77      0.78       294\n",
            "\n"
          ]
        }
      ]
    },
    {
      "cell_type": "markdown",
      "source": [
        "#**Performance Metrics for Random Forest :**"
      ],
      "metadata": {
        "id": "J8Rdi1Kpzi8y"
      }
    },
    {
      "cell_type": "code",
      "source": [
        "random_forest_accuracy = accuracy_score(y_test, random_forest_pred)\n",
        "random_forest_report = classification_report(y_test, random_forest_pred)\n",
        "random_forest_confusion_matrix = confusion_matrix(y_test, random_forest_pred)\n",
        "print(\"Accuracy:\\n\", random_forest_accuracy)\n",
        "print(\"Report:\\n\", random_forest_report)"
      ],
      "metadata": {
        "colab": {
          "base_uri": "https://localhost:8080/"
        },
        "id": "gmVT39ljzgOb",
        "outputId": "75eddcab-4314-43f7-a210-7c54ded9d272"
      },
      "execution_count": 17,
      "outputs": [
        {
          "output_type": "stream",
          "name": "stdout",
          "text": [
            "Accuracy:\n",
            " 0.8673469387755102\n",
            "Report:\n",
            "               precision    recall  f1-score   support\n",
            "\n",
            "          No       0.87      0.99      0.93       255\n",
            "         Yes       0.50      0.05      0.09        39\n",
            "\n",
            "    accuracy                           0.87       294\n",
            "   macro avg       0.69      0.52      0.51       294\n",
            "weighted avg       0.82      0.87      0.82       294\n",
            "\n"
          ]
        }
      ]
    },
    {
      "cell_type": "markdown",
      "source": [
        "#**Best Model: Logistic Regression**"
      ],
      "metadata": {
        "id": "TjRfNT5X0SbD"
      }
    },
    {
      "cell_type": "markdown",
      "source": [
        "#**Thank You**"
      ],
      "metadata": {
        "id": "rD1ILuug0c4i"
      }
    }
  ]
}